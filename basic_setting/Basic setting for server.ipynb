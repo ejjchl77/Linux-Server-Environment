{
 "cells": [
  {
   "cell_type": "markdown",
   "metadata": {},
   "source": [
    "## Basic setting for server\n",
    "\n",
    "Install Linux : Ubuntu 18.04 version\n",
    "\n",
    "### IP 설정\n",
    "    1) 고정 아이피, port, domain name 신청\n",
    "    2) linux 설정> 네트워크> IP 수동\n",
    "주소                 |  넷마스크           | 게이트 웨이                      | 네임서버\n",
    "--------------------|-------------------|-------------------------------|--------------\n",
    "고정 IP 주소 입력      |  255.255.255.0    | 고정 IP 4번째 자리만 254로 변경     | xxx.xxx.1.1, \n",
    "(xxx.xxx.xxx.xxx)   |                   |xxx.xxx.xxx.254                | xxx.xxx.128.1\n",
    "\n",
    "### 환경설정\n",
    "\n",
    "#### 1) update, upgrade 실시\n",
    "\n",
    "`sudo apt-get update`  \n",
    "`sudo apt-get upgrade`\n",
    "\n",
    "이때, upgrade 설치 중 에러 발생 시,  \n",
    "/etc/apt/source.list 파일 내용 수정 필요  \n",
    "\n",
    "파일 내부 들어가기  \n",
    "`sudo vim /etc/apt/source.list`\n",
    "\n",
    "아래 명령어 입력, 내용 수정됨  \n",
    "`:%s/kr.archive.ubuntu.com/ftp.daumkakao.com`     \n",
    "\n",
    "w(저장)q(빠져나오기)!(강제로)  \n",
    "`:wq!`    \n",
    "\n",
    "#### 2) ssh 설치 \n",
    "\n",
    "(1) ssh 설치 유무 확인\n",
    "\n",
    "   `rpm -qa | grep openssh-server`\n",
    "\n",
    "(2) ssh 설치\n",
    "\n",
    "`sudo apt-get install openssh-server`\n",
    "\n",
    "(3)ssh 설정 파일 변경\n",
    "    \n",
    "    - SSH 포트 변경\n",
    "    - 접속 허용 클라이언트 및 패스워드 입력 시도 횟수 제한 설정\n",
    "    - 패스워드, 공개 키 사용자 인증 설정\n",
    "    - 접속 로그, 배너 메세지\n",
    "\n",
    "<파일접속>      \n",
    "`sudo nano /etc/ssh/sshd_config` \n",
    "\n",
    "<변경사항>  \n",
    "    * PermitRootLogin yes\n",
    "\n",
    "\n",
    "(4)설정 변경 후 재실행\n",
    "\n",
    "`service ssh restart`"
   ]
  },
  {
   "cell_type": "code",
   "execution_count": null,
   "metadata": {},
   "outputs": [],
   "source": []
  }
 ],
 "metadata": {
  "kernelspec": {
   "display_name": "Python 3",
   "language": "python",
   "name": "python3"
  },
  "language_info": {
   "codemirror_mode": {
    "name": "ipython",
    "version": 3
   },
   "file_extension": ".py",
   "mimetype": "text/x-python",
   "name": "python",
   "nbconvert_exporter": "python",
   "pygments_lexer": "ipython3",
   "version": "3.6.5"
  }
 },
 "nbformat": 4,
 "nbformat_minor": 2
}
